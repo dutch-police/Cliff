{
 "cells": [
  {
   "cell_type": "markdown",
   "metadata": {},
   "source": [
    "# Solve Cliff task using RLLib"
   ]
  },
  {
   "cell_type": "markdown",
   "metadata": {},
   "source": [
    "## Resources:\n",
    "* https://docs.ray.io/en/latest/rllib.html - RLLib documentation\n",
    "* https://github.com/openai/gym/blob/master/gym/envs/toy_text/cliffwalking.py - OpenAI Gym Cliff walking environment\n",
    "* https://pytorch.org/tutorials/intermediate/reinforcement_q_learning.html - DQN algorithm description\n",
    "* https://github.com/anyscale/academy/blob/master/ray-rllib/explore-rllib/extras/Extra-Application-Frozen-Lake.ipynb - Ray RLlib Example FrozenLake-v0 environment"
   ]
  },
  {
   "cell_type": "markdown",
   "metadata": {},
   "source": [
    "## Installation RLLib"
   ]
  },
  {
   "cell_type": "raw",
   "metadata": {},
   "source": [
    "First, you’ll need to install either PyTorch or TensorFlow\n",
    "!pip3 install \"ray[rllib]\"  - run if not installed"
   ]
  },
  {
   "cell_type": "code",
   "execution_count": 6,
   "metadata": {},
   "outputs": [],
   "source": [
    "import os\n",
    "import shutil\n",
    "import sys\n",
    "import json\n",
    "import ray\n",
    "import ray.rllib.agents.ppo as ppo\n",
    "os.environ['TF_CPP_MIN_LOG_LEVEL']='3'"
   ]
  },
  {
   "cell_type": "markdown",
   "metadata": {},
   "source": [
    "## Init RLlib and path to logging "
   ]
  },
  {
   "cell_type": "code",
   "execution_count": 2,
   "metadata": {},
   "outputs": [
    {
     "name": "stderr",
     "output_type": "stream",
     "text": [
      "2020-12-24 19:37:47,802\tINFO services.py:1173 -- View the Ray dashboard at \u001b[1m\u001b[32mhttp://127.0.0.1:8265\u001b[39m\u001b[22m\n"
     ]
    },
    {
     "name": "stdout",
     "output_type": "stream",
     "text": [
      "Dashboard URL: http://127.0.0.1:8265\n"
     ]
    }
   ],
   "source": [
    "info = ray.init(ignore_reinit_error=True)\n",
    "print(\"Dashboard URL: http://{}\".format(info[\"webui_url\"]))\n",
    "checkpoint_root = \"logdata/cliff_walking\"\n",
    "shutil.rmtree(checkpoint_root, ignore_errors=True, onerror=None)"
   ]
  },
  {
   "cell_type": "markdown",
   "metadata": {},
   "source": [
    "## Import Cliff walking environment from OpenAI Gym"
   ]
  },
  {
   "cell_type": "code",
   "execution_count": 3,
   "metadata": {},
   "outputs": [
    {
     "name": "stderr",
     "output_type": "stream",
     "text": [
      "2020-12-24 19:37:51,290\tINFO trainer.py:591 -- Tip: set framework=tfe or the --eager flag to enable TensorFlow eager execution\n",
      "2020-12-24 19:37:51,291\tINFO trainer.py:618 -- Current log_level is ERROR. For more information, set 'log_level': 'INFO' / 'DEBUG' or use the -v and -vv flags.\n",
      "\u001b[2m\u001b[36m(pid=19720)\u001b[0m WARNING:tensorflow:From C:\\Users\\u373288\\AppData\\Local\\Continuum\\anaconda3\\envs\\Jupyter_lab_env\\lib\\site-packages\\tensorflow_core\\python\\compat\\v2_compat.py:88: disable_resource_variables (from tensorflow.python.ops.variable_scope) is deprecated and will be removed in a future version.\n",
      "\u001b[2m\u001b[36m(pid=19720)\u001b[0m Instructions for updating:\n",
      "\u001b[2m\u001b[36m(pid=19720)\u001b[0m non-resource variables are not supported in the long term\n",
      "\u001b[2m\u001b[36m(pid=10488)\u001b[0m WARNING:tensorflow:From C:\\Users\\u373288\\AppData\\Local\\Continuum\\anaconda3\\envs\\Jupyter_lab_env\\lib\\site-packages\\tensorflow_core\\python\\compat\\v2_compat.py:88: disable_resource_variables (from tensorflow.python.ops.variable_scope) is deprecated and will be removed in a future version.\n",
      "\u001b[2m\u001b[36m(pid=10488)\u001b[0m Instructions for updating:\n",
      "\u001b[2m\u001b[36m(pid=10488)\u001b[0m non-resource variables are not supported in the long term\n",
      "\u001b[2m\u001b[36m(pid=19720)\u001b[0m WARNING:tensorflow:From C:\\Users\\u373288\\AppData\\Local\\Continuum\\anaconda3\\envs\\Jupyter_lab_env\\lib\\site-packages\\tensorflow_core\\python\\ops\\resource_variable_ops.py:1635: calling BaseResourceVariable.__init__ (from tensorflow.python.ops.resource_variable_ops) with constraint is deprecated and will be removed in a future version.\n",
      "\u001b[2m\u001b[36m(pid=19720)\u001b[0m Instructions for updating:\n",
      "\u001b[2m\u001b[36m(pid=19720)\u001b[0m If using Keras pass *_constraint arguments to layers.\n",
      "\u001b[2m\u001b[36m(pid=10488)\u001b[0m WARNING:tensorflow:From C:\\Users\\u373288\\AppData\\Local\\Continuum\\anaconda3\\envs\\Jupyter_lab_env\\lib\\site-packages\\tensorflow_core\\python\\ops\\resource_variable_ops.py:1635: calling BaseResourceVariable.__init__ (from tensorflow.python.ops.resource_variable_ops) with constraint is deprecated and will be removed in a future version.\n",
      "\u001b[2m\u001b[36m(pid=10488)\u001b[0m Instructions for updating:\n",
      "\u001b[2m\u001b[36m(pid=10488)\u001b[0m If using Keras pass *_constraint arguments to layers.\n"
     ]
    },
    {
     "name": "stdout",
     "output_type": "stream",
     "text": [
      "WARNING:tensorflow:From C:\\Users\\u373288\\AppData\\Local\\Continuum\\anaconda3\\envs\\Jupyter_lab_env\\lib\\site-packages\\tensorflow_core\\python\\ops\\resource_variable_ops.py:1635: calling BaseResourceVariable.__init__ (from tensorflow.python.ops.resource_variable_ops) with constraint is deprecated and will be removed in a future version.\n",
      "Instructions for updating:\n",
      "If using Keras pass *_constraint arguments to layers.\n"
     ]
    },
    {
     "name": "stderr",
     "output_type": "stream",
     "text": [
      "2020-12-24 19:38:00,612\tWARNING util.py:43 -- Install gputil for GPU system monitoring.\n"
     ]
    }
   ],
   "source": [
    "SELECT_ENV = \"CliffWalking-v0\"\n",
    "N_ITER = 100\n",
    "config = ppo.DEFAULT_CONFIG.copy()\n",
    "config[\"log_level\"] = \"ERROR\"\n",
    "agent = ppo.PPOTrainer(config, env=SELECT_ENV)"
   ]
  },
  {
   "cell_type": "markdown",
   "metadata": {},
   "source": [
    "## Train"
   ]
  },
  {
   "cell_type": "code",
   "execution_count": 4,
   "metadata": {},
   "outputs": [
    {
     "name": "stdout",
     "output_type": "stream",
     "text": [
      "WARNING:tensorflow:From C:\\Users\\u373288\\AppData\\Local\\Continuum\\anaconda3\\envs\\Jupyter_lab_env\\lib\\site-packages\\ray\\rllib\\policy\\tf_policy.py:852: Variable.load (from tensorflow.python.ops.variables) is deprecated and will be removed in a future version.\n",
      "Instructions for updating:\n",
      "Prefer Variable.assign which has equivalent behavior in 2.X.\n"
     ]
    },
    {
     "name": "stderr",
     "output_type": "stream",
     "text": [
      "\u001b[2m\u001b[36m(pid=19720)\u001b[0m WARNING:tensorflow:From C:\\Users\\u373288\\AppData\\Local\\Continuum\\anaconda3\\envs\\Jupyter_lab_env\\lib\\site-packages\\ray\\rllib\\policy\\tf_policy.py:852: Variable.load (from tensorflow.python.ops.variables) is deprecated and will be removed in a future version.\n",
      "\u001b[2m\u001b[36m(pid=19720)\u001b[0m Instructions for updating:\n",
      "\u001b[2m\u001b[36m(pid=19720)\u001b[0m Prefer Variable.assign which has equivalent behavior in 2.X.\n",
      "\u001b[2m\u001b[36m(pid=10488)\u001b[0m WARNING:tensorflow:From C:\\Users\\u373288\\AppData\\Local\\Continuum\\anaconda3\\envs\\Jupyter_lab_env\\lib\\site-packages\\ray\\rllib\\policy\\tf_policy.py:852: Variable.load (from tensorflow.python.ops.variables) is deprecated and will be removed in a future version.\n",
      "\u001b[2m\u001b[36m(pid=10488)\u001b[0m Instructions for updating:\n",
      "\u001b[2m\u001b[36m(pid=10488)\u001b[0m Prefer Variable.assign which has equivalent behavior in 2.X.\n"
     ]
    },
    {
     "name": "stdout",
     "output_type": "stream",
     "text": [
      "  1: Min/Mean/Max reward:      nan/     nan/     nan, len mean:      nan. Checkpoint saved to logdata/cliff_walking\\checkpoint_1\\checkpoint-1\n",
      "  2: Min/Mean/Max reward: -27523.0000/-27523.0000/-27523.0000, len mean: 2872.0000. Checkpoint saved to logdata/cliff_walking\\checkpoint_2\\checkpoint-2\n",
      "  3: Min/Mean/Max reward: -27523.0000/-27523.0000/-27523.0000, len mean: 2872.0000. Checkpoint saved to logdata/cliff_walking\\checkpoint_3\\checkpoint-3\n",
      "  4: Min/Mean/Max reward: -27523.0000/-27523.0000/-27523.0000, len mean: 2872.0000. Checkpoint saved to logdata/cliff_walking\\checkpoint_4\\checkpoint-4\n",
      "  5: Min/Mean/Max reward: -27523.0000/-21120.0000/-14717.0000, len mean: 4141.5000. Checkpoint saved to logdata/cliff_walking\\checkpoint_5\\checkpoint-5\n",
      "  6: Min/Mean/Max reward: -27523.0000/-21120.0000/-14717.0000, len mean: 4141.5000. Checkpoint saved to logdata/cliff_walking\\checkpoint_6\\checkpoint-6\n",
      "  7: Min/Mean/Max reward: -27523.0000/-21120.0000/-14717.0000, len mean: 4141.5000. Checkpoint saved to logdata/cliff_walking\\checkpoint_7\\checkpoint-7\n",
      "  8: Min/Mean/Max reward: -27523.0000/-16221.0000/-6423.0000, len mean: 4803.0000. Checkpoint saved to logdata/cliff_walking\\checkpoint_8\\checkpoint-8\n",
      "  9: Min/Mean/Max reward: -27523.0000/-10360.0000/-617.0000, len mean: 3489.4000. Checkpoint saved to logdata/cliff_walking\\checkpoint_9\\checkpoint-9\n",
      " 10: Min/Mean/Max reward: -27523.0000/-8867.0000/-617.0000, len mean: 3125.0000. Checkpoint saved to logdata/cliff_walking\\checkpoint_10\\checkpoint-10\n",
      " 11: Min/Mean/Max reward: -51562.0000/-10740.0000/-179.0000, len mean: 4136.7000. Checkpoint saved to logdata/cliff_walking\\checkpoint_11\\checkpoint-11\n",
      " 12: Min/Mean/Max reward: -51562.0000/-5379.8571/-75.0000, len mean: 2235.4286. Checkpoint saved to logdata/cliff_walking\\checkpoint_12\\checkpoint-12\n",
      " 13: Min/Mean/Max reward: -51562.0000/-2631.6667/-33.0000, len mean: 1153.2667. Checkpoint saved to logdata/cliff_walking\\checkpoint_13\\checkpoint-13\n",
      " 14: Min/Mean/Max reward: -51562.0000/-1425.7326/-33.0000, len mean: 649.8488. Checkpoint saved to logdata/cliff_walking\\checkpoint_14\\checkpoint-14\n",
      " 15: Min/Mean/Max reward: -259.0000/-81.8000/-24.0000, len mean:  73.8800. Checkpoint saved to logdata/cliff_walking\\checkpoint_15\\checkpoint-15\n",
      " 16: Min/Mean/Max reward: -244.0000/-51.9400/-22.0000, len mean:  46.9900. Checkpoint saved to logdata/cliff_walking\\checkpoint_16\\checkpoint-16\n",
      " 17: Min/Mean/Max reward: -174.0000/-39.4486/-22.0000, len mean:  37.5981. Checkpoint saved to logdata/cliff_walking\\checkpoint_17\\checkpoint-17\n",
      " 18: Min/Mean/Max reward: -148.0000/-32.1308/-17.0000, len mean:  30.6077. Checkpoint saved to logdata/cliff_walking\\checkpoint_18\\checkpoint-18\n",
      " 19: Min/Mean/Max reward: -137.0000/-28.8288/-17.0000, len mean:  27.4726. Checkpoint saved to logdata/cliff_walking\\checkpoint_19\\checkpoint-19\n",
      " 20: Min/Mean/Max reward: -36.0000/-23.3471/-15.0000, len mean:  23.3471. Checkpoint saved to logdata/cliff_walking\\checkpoint_20\\checkpoint-20\n",
      " 21: Min/Mean/Max reward: -230.0000/-26.7955/-16.0000, len mean:  22.8580. Checkpoint saved to logdata/cliff_walking\\checkpoint_21\\checkpoint-21\n",
      " 22: Min/Mean/Max reward: -34.0000/-22.1492/-17.0000, len mean:  22.1492. Checkpoint saved to logdata/cliff_walking\\checkpoint_22\\checkpoint-22\n",
      " 23: Min/Mean/Max reward: -119.0000/-19.8981/-15.0000, len mean:  19.4175. Checkpoint saved to logdata/cliff_walking\\checkpoint_23\\checkpoint-23\n",
      " 24: Min/Mean/Max reward: -30.0000/-18.0450/-15.0000, len mean:  18.0450. Checkpoint saved to logdata/cliff_walking\\checkpoint_24\\checkpoint-24\n",
      " 25: Min/Mean/Max reward: -119.0000/-17.4915/-15.0000, len mean:  17.0684. Checkpoint saved to logdata/cliff_walking\\checkpoint_25\\checkpoint-25\n",
      " 26: Min/Mean/Max reward: -23.0000/-16.4057/-15.0000, len mean:  16.4057. Checkpoint saved to logdata/cliff_walking\\checkpoint_26\\checkpoint-26\n",
      " 27: Min/Mean/Max reward: -21.0000/-15.8300/-15.0000, len mean:  15.8300. Checkpoint saved to logdata/cliff_walking\\checkpoint_27\\checkpoint-27\n",
      " 28: Min/Mean/Max reward: -19.0000/-15.5000/-13.0000, len mean:  15.5000. Checkpoint saved to logdata/cliff_walking\\checkpoint_28\\checkpoint-28\n",
      " 29: Min/Mean/Max reward: -115.0000/-15.8378/-15.0000, len mean:  15.4556. Checkpoint saved to logdata/cliff_walking\\checkpoint_29\\checkpoint-29\n",
      " 30: Min/Mean/Max reward: -115.0000/-15.5970/-15.0000, len mean:  15.2205. Checkpoint saved to logdata/cliff_walking\\checkpoint_30\\checkpoint-30\n",
      " 31: Min/Mean/Max reward: -19.0000/-15.1711/-15.0000, len mean:  15.1711. Checkpoint saved to logdata/cliff_walking\\checkpoint_31\\checkpoint-31\n",
      " 32: Min/Mean/Max reward: -115.0000/-15.4398/-15.0000, len mean:  15.0677. Checkpoint saved to logdata/cliff_walking\\checkpoint_32\\checkpoint-32\n",
      " 33: Min/Mean/Max reward: -17.0000/-15.0491/-15.0000, len mean:  15.0491. Checkpoint saved to logdata/cliff_walking\\checkpoint_33\\checkpoint-33\n",
      " 34: Min/Mean/Max reward: -128.0000/-17.2107/-15.0000, len mean:  15.3142. Checkpoint saved to logdata/cliff_walking\\checkpoint_34\\checkpoint-34\n",
      " 35: Min/Mean/Max reward: -17.0000/-15.0977/-15.0000, len mean:  15.0977. Checkpoint saved to logdata/cliff_walking\\checkpoint_35\\checkpoint-35\n",
      " 36: Min/Mean/Max reward: -245.0000/-17.1967/-15.0000, len mean:  16.3852. Checkpoint saved to logdata/cliff_walking\\checkpoint_36\\checkpoint-36\n",
      " 37: Min/Mean/Max reward: -19.0000/-15.5155/-15.0000, len mean:  15.5155. Checkpoint saved to logdata/cliff_walking\\checkpoint_37\\checkpoint-37\n",
      " 38: Min/Mean/Max reward: -19.0000/-15.2281/-15.0000, len mean:  15.2281. Checkpoint saved to logdata/cliff_walking\\checkpoint_38\\checkpoint-38\n",
      " 39: Min/Mean/Max reward: -17.0000/-15.0451/-15.0000, len mean:  15.0451. Checkpoint saved to logdata/cliff_walking\\checkpoint_39\\checkpoint-39\n",
      " 40: Min/Mean/Max reward: -17.0000/-15.0188/-15.0000, len mean:  15.0188. Checkpoint saved to logdata/cliff_walking\\checkpoint_40\\checkpoint-40\n",
      " 41: Min/Mean/Max reward: -17.0000/-15.0226/-15.0000, len mean:  15.0226. Checkpoint saved to logdata/cliff_walking\\checkpoint_41\\checkpoint-41\n",
      " 42: Min/Mean/Max reward: -16.0000/-15.0038/-15.0000, len mean:  15.0038. Checkpoint saved to logdata/cliff_walking\\checkpoint_42\\checkpoint-42\n",
      " 43: Min/Mean/Max reward: -17.0000/-15.0112/-15.0000, len mean:  15.0112. Checkpoint saved to logdata/cliff_walking\\checkpoint_43\\checkpoint-43\n",
      " 44: Min/Mean/Max reward: -15.0000/-15.0000/-15.0000, len mean:  15.0000. Checkpoint saved to logdata/cliff_walking\\checkpoint_44\\checkpoint-44\n",
      " 45: Min/Mean/Max reward: -17.0000/-15.0679/-15.0000, len mean:  15.0679. Checkpoint saved to logdata/cliff_walking\\checkpoint_45\\checkpoint-45\n",
      " 46: Min/Mean/Max reward: -17.0000/-15.0075/-15.0000, len mean:  15.0075. Checkpoint saved to logdata/cliff_walking\\checkpoint_46\\checkpoint-46\n",
      " 47: Min/Mean/Max reward: -17.0000/-15.0263/-15.0000, len mean:  15.0263. Checkpoint saved to logdata/cliff_walking\\checkpoint_47\\checkpoint-47\n",
      " 48: Min/Mean/Max reward: -16.0000/-15.0038/-15.0000, len mean:  15.0038. Checkpoint saved to logdata/cliff_walking\\checkpoint_48\\checkpoint-48\n",
      " 49: Min/Mean/Max reward: -24.0000/-16.9325/-15.0000, len mean:  16.9325. Checkpoint saved to logdata/cliff_walking\\checkpoint_49\\checkpoint-49\n",
      " 50: Min/Mean/Max reward: -31.0000/-19.8507/-15.0000, len mean:  19.8507. Checkpoint saved to logdata/cliff_walking\\checkpoint_50\\checkpoint-50\n",
      " 51: Min/Mean/Max reward: -26.0000/-17.0000/-15.0000, len mean:  17.0000. Checkpoint saved to logdata/cliff_walking\\checkpoint_51\\checkpoint-51\n",
      " 52: Min/Mean/Max reward: -24.0000/-16.2694/-15.0000, len mean:  16.2694. Checkpoint saved to logdata/cliff_walking\\checkpoint_52\\checkpoint-52\n",
      " 53: Min/Mean/Max reward: -19.0000/-15.3448/-15.0000, len mean:  15.3448. Checkpoint saved to logdata/cliff_walking\\checkpoint_53\\checkpoint-53\n",
      " 54: Min/Mean/Max reward: -19.0000/-15.1057/-15.0000, len mean:  15.1057. Checkpoint saved to logdata/cliff_walking\\checkpoint_54\\checkpoint-54\n",
      " 55: Min/Mean/Max reward: -17.0000/-15.0301/-15.0000, len mean:  15.0301. Checkpoint saved to logdata/cliff_walking\\checkpoint_55\\checkpoint-55\n",
      " 56: Min/Mean/Max reward: -16.0000/-15.0113/-15.0000, len mean:  15.0113. Checkpoint saved to logdata/cliff_walking\\checkpoint_56\\checkpoint-56\n",
      " 57: Min/Mean/Max reward: -17.0000/-15.0263/-15.0000, len mean:  15.0263. Checkpoint saved to logdata/cliff_walking\\checkpoint_57\\checkpoint-57\n",
      " 58: Min/Mean/Max reward: -18.0000/-15.1321/-15.0000, len mean:  15.1321. Checkpoint saved to logdata/cliff_walking\\checkpoint_58\\checkpoint-58\n",
      " 59: Min/Mean/Max reward: -17.0000/-15.0150/-15.0000, len mean:  15.0150. Checkpoint saved to logdata/cliff_walking\\checkpoint_59\\checkpoint-59\n",
      " 60: Min/Mean/Max reward: -15.0000/-15.0000/-15.0000, len mean:  15.0000. Checkpoint saved to logdata/cliff_walking\\checkpoint_60\\checkpoint-60\n",
      " 61: Min/Mean/Max reward: -16.0000/-15.0112/-15.0000, len mean:  15.0112. Checkpoint saved to logdata/cliff_walking\\checkpoint_61\\checkpoint-61\n",
      " 62: Min/Mean/Max reward: -16.0000/-14.9925/-13.0000, len mean:  14.9925. Checkpoint saved to logdata/cliff_walking\\checkpoint_62\\checkpoint-62\n",
      " 63: Min/Mean/Max reward: -17.0000/-14.8996/-13.0000, len mean:  14.8996. Checkpoint saved to logdata/cliff_walking\\checkpoint_63\\checkpoint-63\n",
      " 64: Min/Mean/Max reward: -15.0000/-14.9179/-13.0000, len mean:  14.9179. Checkpoint saved to logdata/cliff_walking\\checkpoint_64\\checkpoint-64\n",
      " 65: Min/Mean/Max reward: -126.0000/-15.0551/-13.0000, len mean:  14.6912. Checkpoint saved to logdata/cliff_walking\\checkpoint_65\\checkpoint-65\n",
      " 66: Min/Mean/Max reward: -17.0000/-14.8885/-13.0000, len mean:  14.8885. Checkpoint saved to logdata/cliff_walking\\checkpoint_66\\checkpoint-66\n",
      " 67: Min/Mean/Max reward: -39.0000/-18.6262/-13.0000, len mean:  18.6262. Checkpoint saved to logdata/cliff_walking\\checkpoint_67\\checkpoint-67\n",
      " 68: Min/Mean/Max reward: -31.0000/-15.2939/-13.0000, len mean:  15.2939. Checkpoint saved to logdata/cliff_walking\\checkpoint_68\\checkpoint-68\n",
      " 69: Min/Mean/Max reward: -568.0000/-90.3646/-13.0000, len mean:  21.9945. Checkpoint saved to logdata/cliff_walking\\checkpoint_69\\checkpoint-69\n",
      " 70: Min/Mean/Max reward: -457.0000/-41.3837/-13.0000, len mean:  16.3306. Checkpoint saved to logdata/cliff_walking\\checkpoint_70\\checkpoint-70\n",
      " 71: Min/Mean/Max reward: -235.0000/-14.5917/-13.0000, len mean:  13.9066. Checkpoint saved to logdata/cliff_walking\\checkpoint_71\\checkpoint-71\n",
      " 72: Min/Mean/Max reward: -23.0000/-13.8681/-13.0000, len mean:  13.8681. Checkpoint saved to logdata/cliff_walking\\checkpoint_72\\checkpoint-72\n",
      " 73: Min/Mean/Max reward: -124.0000/-13.8418/-13.0000, len mean:  13.5084. Checkpoint saved to logdata/cliff_walking\\checkpoint_73\\checkpoint-73\n",
      " 74: Min/Mean/Max reward: -19.0000/-13.2483/-13.0000, len mean:  13.2483. Checkpoint saved to logdata/cliff_walking\\checkpoint_74\\checkpoint-74\n",
      " 75: Min/Mean/Max reward: -16.0000/-13.1382/-13.0000, len mean:  13.1382. Checkpoint saved to logdata/cliff_walking\\checkpoint_75\\checkpoint-75\n",
      " 76: Min/Mean/Max reward: -124.0000/-13.3681/-13.0000, len mean:  13.0456. Checkpoint saved to logdata/cliff_walking\\checkpoint_76\\checkpoint-76\n",
      " 77: Min/Mean/Max reward: -123.0000/-13.3746/-13.0000, len mean:  13.0521. Checkpoint saved to logdata/cliff_walking\\checkpoint_77\\checkpoint-77\n",
      " 78: Min/Mean/Max reward: -14.0000/-13.0098/-13.0000, len mean:  13.0098. Checkpoint saved to logdata/cliff_walking\\checkpoint_78\\checkpoint-78\n",
      " 79: Min/Mean/Max reward: -739.0000/-108.9459/-13.0000, len mean:  35.8108. Checkpoint saved to logdata/cliff_walking\\checkpoint_79\\checkpoint-79\n",
      " 80: Min/Mean/Max reward: -608.0000/-60.4172/-13.0000, len mean:  24.5828. Checkpoint saved to logdata/cliff_walking\\checkpoint_80\\checkpoint-80\n",
      " 81: Min/Mean/Max reward: -251.0000/-27.0218/-13.0000, len mean:  17.5109. Checkpoint saved to logdata/cliff_walking\\checkpoint_81\\checkpoint-81\n",
      " 82: Min/Mean/Max reward: -130.0000/-17.2960/-13.0000, len mean:  14.4368. Checkpoint saved to logdata/cliff_walking\\checkpoint_82\\checkpoint-82\n",
      " 83: Min/Mean/Max reward: -17.0000/-13.4765/-13.0000, len mean:  13.4765. Checkpoint saved to logdata/cliff_walking\\checkpoint_83\\checkpoint-83\n",
      " 84: Min/Mean/Max reward: -15.0000/-13.0261/-13.0000, len mean:  13.0261. Checkpoint saved to logdata/cliff_walking\\checkpoint_84\\checkpoint-84\n",
      " 85: Min/Mean/Max reward: -15.0000/-13.0130/-13.0000, len mean:  13.0130. Checkpoint saved to logdata/cliff_walking\\checkpoint_85\\checkpoint-85\n",
      " 86: Min/Mean/Max reward: -13.0000/-13.0000/-13.0000, len mean:  13.0000. Checkpoint saved to logdata/cliff_walking\\checkpoint_86\\checkpoint-86\n",
      " 87: Min/Mean/Max reward: -15.0000/-13.0065/-13.0000, len mean:  13.0065. Checkpoint saved to logdata/cliff_walking\\checkpoint_87\\checkpoint-87\n",
      " 88: Min/Mean/Max reward: -15.0000/-13.0228/-13.0000, len mean:  13.0228. Checkpoint saved to logdata/cliff_walking\\checkpoint_88\\checkpoint-88\n",
      " 89: Min/Mean/Max reward: -15.0000/-13.0065/-13.0000, len mean:  13.0065. Checkpoint saved to logdata/cliff_walking\\checkpoint_89\\checkpoint-89\n",
      " 90: Min/Mean/Max reward: -13.0000/-13.0000/-13.0000, len mean:  13.0000. Checkpoint saved to logdata/cliff_walking\\checkpoint_90\\checkpoint-90\n",
      " 91: Min/Mean/Max reward: -15.0000/-13.0065/-13.0000, len mean:  13.0065. Checkpoint saved to logdata/cliff_walking\\checkpoint_91\\checkpoint-91\n",
      " 92: Min/Mean/Max reward: -13.0000/-13.0000/-13.0000, len mean:  13.0000. Checkpoint saved to logdata/cliff_walking\\checkpoint_92\\checkpoint-92\n",
      " 93: Min/Mean/Max reward: -119.0000/-14.6294/-13.0000, len mean:  13.9371. Checkpoint saved to logdata/cliff_walking\\checkpoint_93\\checkpoint-93\n",
      " 94: Min/Mean/Max reward: -118.0000/-14.3357/-13.0000, len mean:  13.9895. Checkpoint saved to logdata/cliff_walking\\checkpoint_94\\checkpoint-94\n",
      " 95: Min/Mean/Max reward: -15.0000/-13.2310/-13.0000, len mean:  13.2310. Checkpoint saved to logdata/cliff_walking\\checkpoint_95\\checkpoint-95\n",
      " 96: Min/Mean/Max reward: -13.0000/-13.0000/-13.0000, len mean:  13.0000. Checkpoint saved to logdata/cliff_walking\\checkpoint_96\\checkpoint-96\n",
      " 97: Min/Mean/Max reward: -1073.0000/-163.7529/-13.0000, len mean:  23.4059. Checkpoint saved to logdata/cliff_walking\\checkpoint_97\\checkpoint-97\n",
      " 98: Min/Mean/Max reward: -225.0000/-23.3931/-13.0000, len mean:  13.8345. Checkpoint saved to logdata/cliff_walking\\checkpoint_98\\checkpoint-98\n",
      " 99: Min/Mean/Max reward: -119.0000/-13.3648/-13.0000, len mean:  13.0423. Checkpoint saved to logdata/cliff_walking\\checkpoint_99\\checkpoint-99\n",
      "100: Min/Mean/Max reward: -50.0000/-21.4011/-15.0000, len mean:  21.4011. Checkpoint saved to logdata/cliff_walking\\checkpoint_100\\checkpoint-100\n"
     ]
    }
   ],
   "source": [
    "results = []\n",
    "episode_data = []\n",
    "episode_json = []\n",
    "\n",
    "for n in range(N_ITER):\n",
    "    result = agent.train()\n",
    "    results.append(result)\n",
    "    \n",
    "    episode = {'n': n, \n",
    "               'episode_reward_min': result['episode_reward_min'], \n",
    "               'episode_reward_mean': result['episode_reward_mean'], \n",
    "               'episode_reward_max': result['episode_reward_max'],  \n",
    "               'episode_len_mean': result['episode_len_mean']\n",
    "              }\n",
    "    \n",
    "    episode_data.append(episode)\n",
    "    episode_json.append(json.dumps(episode))\n",
    "    file_name = agent.save(checkpoint_root)\n",
    "    \n",
    "    print(f'{n+1:3d}: Min/Mean/Max reward: {result[\"episode_reward_min\"]:8.4f}/{result[\"episode_reward_mean\"]:8.4f}/{result[\"episode_reward_max\"]:8.4f}, len mean: {result[\"episode_len_mean\"]:8.4f}. Checkpoint saved to {file_name}')"
   ]
  },
  {
   "cell_type": "markdown",
   "metadata": {},
   "source": [
    "## Show model details"
   ]
  },
  {
   "cell_type": "code",
   "execution_count": 5,
   "metadata": {},
   "outputs": [
    {
     "name": "stdout",
     "output_type": "stream",
     "text": [
      "[<tf.Variable 'default_policy/fc_1/kernel:0' shape=(48, 256) dtype=float32>,\n",
      " <tf.Variable 'default_policy/fc_1/bias:0' shape=(256,) dtype=float32>,\n",
      " <tf.Variable 'default_policy/fc_value_1/kernel:0' shape=(48, 256) dtype=float32>,\n",
      " <tf.Variable 'default_policy/fc_value_1/bias:0' shape=(256,) dtype=float32>,\n",
      " <tf.Variable 'default_policy/fc_2/kernel:0' shape=(256, 256) dtype=float32>,\n",
      " <tf.Variable 'default_policy/fc_2/bias:0' shape=(256,) dtype=float32>,\n",
      " <tf.Variable 'default_policy/fc_value_2/kernel:0' shape=(256, 256) dtype=float32>,\n",
      " <tf.Variable 'default_policy/fc_value_2/bias:0' shape=(256,) dtype=float32>,\n",
      " <tf.Variable 'default_policy/fc_out/kernel:0' shape=(256, 4) dtype=float32>,\n",
      " <tf.Variable 'default_policy/fc_out/bias:0' shape=(4,) dtype=float32>,\n",
      " <tf.Variable 'default_policy/value_out/kernel:0' shape=(256, 1) dtype=float32>,\n",
      " <tf.Variable 'default_policy/value_out/bias:0' shape=(1,) dtype=float32>]\n",
      "<tf.Tensor 'Reshape:0' shape=(?,) dtype=float32>\n",
      "Model: \"model\"\n",
      "__________________________________________________________________________________________________\n",
      "Layer (type)                    Output Shape         Param #     Connected to                     \n",
      "==================================================================================================\n",
      "observations (InputLayer)       [(None, 48)]         0                                            \n",
      "__________________________________________________________________________________________________\n",
      "fc_1 (Dense)                    (None, 256)          12544       observations[0][0]               \n",
      "__________________________________________________________________________________________________\n",
      "fc_value_1 (Dense)              (None, 256)          12544       observations[0][0]               \n",
      "__________________________________________________________________________________________________\n",
      "fc_2 (Dense)                    (None, 256)          65792       fc_1[0][0]                       \n",
      "__________________________________________________________________________________________________\n",
      "fc_value_2 (Dense)              (None, 256)          65792       fc_value_1[0][0]                 \n",
      "__________________________________________________________________________________________________\n",
      "fc_out (Dense)                  (None, 4)            1028        fc_2[0][0]                       \n",
      "__________________________________________________________________________________________________\n",
      "value_out (Dense)               (None, 1)            257         fc_value_2[0][0]                 \n",
      "==================================================================================================\n",
      "Total params: 157,957\n",
      "Trainable params: 157,957\n",
      "Non-trainable params: 0\n",
      "__________________________________________________________________________________________________\n",
      "None\n"
     ]
    }
   ],
   "source": [
    "import pprint\n",
    "policy = agent.get_policy()\n",
    "model = policy.model\n",
    "pprint.pprint(model.variables())\n",
    "pprint.pprint(model.value_function())\n",
    "print(model.base_model.summary())"
   ]
  },
  {
   "cell_type": "code",
   "execution_count": 6,
   "metadata": {},
   "outputs": [],
   "source": [
    "ray.shutdown()"
   ]
  },
  {
   "cell_type": "markdown",
   "metadata": {},
   "source": [
    "## Display results"
   ]
  },
  {
   "cell_type": "code",
   "execution_count": 9,
   "metadata": {},
   "outputs": [
    {
     "name": "stdout",
     "output_type": "stream",
     "text": [
      "o  o  o  o  o  o  o  o  o  o  o  o\n",
      "o  o  o  o  o  o  o  o  o  o  o  o\n",
      "x  o  o  o  o  o  o  o  o  o  o  o\n",
      "o  C  C  C  C  C  C  C  C  C  C  T\n",
      "\n",
      "o  o  o  o  o  o  o  o  o  o  o  o\n",
      "o  o  o  o  o  o  o  o  o  o  o  o\n",
      "o  x  o  o  o  o  o  o  o  o  o  o\n",
      "o  C  C  C  C  C  C  C  C  C  C  T\n",
      "\n",
      "o  o  o  o  o  o  o  o  o  o  o  o\n",
      "o  o  o  o  o  o  o  o  o  o  o  o\n",
      "o  o  x  o  o  o  o  o  o  o  o  o\n",
      "o  C  C  C  C  C  C  C  C  C  C  T\n"
     ]
    },
    {
     "name": "stderr",
     "output_type": "stream",
     "text": [
      "WARNING:tensorflow:From c:\\users\\u373288\\appdata\\local\\continuum\\anaconda3\\envs\\jupyter_lab_env\\lib\\site-packages\\tensorflow_core\\python\\compat\\v2_compat.py:88: disable_resource_variables (from tensorflow.python.ops.variable_scope) is deprecated and will be removed in a future version.\n",
      "Instructions for updating:\n",
      "non-resource variables are not supported in the long term\n",
      "2020-12-24 19:47:11,646\tINFO services.py:1173 -- View the Ray dashboard at \u001b[1m\u001b[32mhttp://127.0.0.1:8265\u001b[39m\u001b[22m\n",
      "2020-12-24 19:47:15,090\tINFO trainer.py:591 -- Tip: set framework=tfe or the --eager flag to enable TensorFlow eager execution\n",
      "2020-12-24 19:47:15,090\tINFO trainer.py:618 -- Current log_level is WARN. For more information, set 'log_level': 'INFO' / 'DEBUG' or use the -v and -vv flags.\n",
      "\u001b[2m\u001b[36m(pid=17840)\u001b[0m WARNING:tensorflow:From c:\\users\\u373288\\appdata\\local\\continuum\\anaconda3\\envs\\jupyter_lab_env\\lib\\site-packages\\tensorflow_core\\python\\compat\\v2_compat.py:88: disable_resource_variables (from tensorflow.python.ops.variable_scope) is deprecated and will be removed in a future version.\n",
      "\n",
      "\u001b[2m\u001b[36m(pid=17840)\u001b[0m Instructions for updating:\n",
      "\n",
      "\u001b[2m\u001b[36m(pid=17840)\u001b[0m non-resource variables are not supported in the long term\n",
      "\n",
      "\u001b[2m\u001b[36m(pid=20248)\u001b[0m WARNING:tensorflow:From c:\\users\\u373288\\appdata\\local\\continuum\\anaconda3\\envs\\jupyter_lab_env\\lib\\site-packages\\tensorflow_core\\python\\compat\\v2_compat.py:88: disable_resource_variables (from tensorflow.python.ops.variable_scope) is deprecated and will be removed in a future version.\n",
      "\n",
      "\u001b[2m\u001b[36m(pid=20248)\u001b[0m Instructions for updating:\n",
      "\n",
      "\u001b[2m\u001b[36m(pid=20248)\u001b[0m non-resource variables are not supported in the long term\n",
      "\n",
      "\u001b[2m\u001b[36m(pid=17840)\u001b[0m WARNING:tensorflow:From c:\\users\\u373288\\appdata\\local\\continuum\\anaconda3\\envs\\jupyter_lab_env\\lib\\site-packages\\tensorflow_core\\python\\ops\\resource_variable_ops.py:1635: calling BaseResourceVariable.__init__ (from tensorflow.python.ops.resource_variable_ops) with constraint is deprecated and will be removed in a future version.\n",
      "\n"
     ]
    },
    {
     "name": "stdout",
     "output_type": "stream",
     "text": [
      "\n",
      "o  o  o  o  o  o  o  o  o  o  o  o\n",
      "o  o  o  o  o  o  o  o  o  o  o  o\n",
      "o  o  o  x  o  o  o  o  o  o  o  o\n",
      "o  C  C  C  C  C  C  C  C  C  C  T\n",
      "\n",
      "o  o  o  o  o  o  o  o  o  o  o  o\n",
      "o  o  o  o  o  o  o  o  o  o  o  o\n",
      "o  o  o  o  x  o  o  o  o  o  o  o\n",
      "o  C  C  C  C  C  C  C  C  C  C  T\n",
      "\n",
      "o  o  o  o  o  o  o  o  o  o  o  o\n",
      "o  o  o  o  o  o  o  o  o  o  o  o\n",
      "o  o  o  o  o  x  o  o  o  o  o  o\n",
      "o  C  C  C  C  C  C  C  C  C  C  T\n",
      "\n",
      "o  o  o  o  o  o  o  o  o  o  o  o\n",
      "o  o  o  o  o  o  o  o  o  o  o  o\n",
      "o  o  o  o  o  o  x  o  o  o  o  o\n",
      "o  C  C  C  C  C  C  C  C  C  C  T\n",
      "\n",
      "o  o  o  o  o  o  o  o  o  o  o  o\n",
      "o  o  o  o  o  o  o  o  o  o  o  o\n",
      "o  o  o  o  o  o  o  x  o  o  o  o\n",
      "o  C  C  C  C  C  C  C  C  C  C  T\n",
      "\n",
      "o  o  o  o  o  o  o  o  o  o  o  o\n",
      "o  o  o  o  o  o  o  o  o  o  o  o\n",
      "o  o  o  o  o  o  o  o  x  o  o  o\n",
      "o  C  C  C  C  C  C  C  C  C  C  T\n",
      "\n",
      "o  o  o  o  o  o  o  o  o  o  o  o\n",
      "o  o  o  o  o  o  o  o  o  o  o  o\n",
      "o  o  o  o  o  o  o  o  o  x  o  o\n",
      "o  C  C  C  C  C  C  C  C  C  C  T\n",
      "\n",
      "o  o  o  o  o  o  o  o  o  o  o  o\n",
      "o  o  o  o  o  o  o  o  o  o  o  o\n",
      "o  o  o  o  o  o  o  o  o  o  x  o\n",
      "o  C  C  C  C  C  C  C  C  C  C  T\n",
      "\n",
      "o  o  o  o  o  o  o  o  o  o  o  o\n",
      "o  o  o  o  o  o  o  o  o  o  o  o\n",
      "o  o  o  o  o  o  o  o  o  o  o  x\n",
      "o  C  C  C  C  C  C  C  C  C  C  T\n",
      "\n",
      "o  o  o  o  o  o  o  o  o  o  o  o"
     ]
    },
    {
     "name": "stderr",
     "output_type": "stream",
     "text": [
      "\u001b[2m\u001b[36m(pid=17840)\u001b[0m Instructions for updating:\n",
      "\n",
      "\u001b[2m\u001b[36m(pid=17840)\u001b[0m If using Keras pass *_constraint arguments to layers.\n",
      "\n",
      "\u001b[2m\u001b[36m(pid=20248)\u001b[0m WARNING:tensorflow:From c:\\users\\u373288\\appdata\\local\\continuum\\anaconda3\\envs\\jupyter_lab_env\\lib\\site-packages\\tensorflow_core\\python\\ops\\resource_variable_ops.py:1635: calling BaseResourceVariable.__init__ (from tensorflow.python.ops.resource_variable_ops) with constraint is deprecated and will be removed in a future version.\n",
      "\n",
      "\u001b[2m\u001b[36m(pid=20248)\u001b[0m Instructions for updating:\n",
      "\n",
      "\u001b[2m\u001b[36m(pid=20248)\u001b[0m If using Keras pass *_constraint arguments to layers.\n",
      "\n",
      "WARNING:tensorflow:From c:\\users\\u373288\\appdata\\local\\continuum\\anaconda3\\envs\\jupyter_lab_env\\lib\\site-packages\\tensorflow_core\\python\\ops\\resource_variable_ops.py:1635: calling BaseResourceVariable.__init__ (from tensorflow.python.ops.resource_variable_ops) with constraint is deprecated and will be removed in a future version.\n",
      "Instructions for updating:\n",
      "If using Keras pass *_constraint arguments to layers.\n",
      "2020-12-24 19:47:24,517\tWARNING util.py:43 -- Install gputil for GPU system monitoring.\n",
      "2020-12-24 19:47:24,662\tINFO trainable.py:329 -- Restored on 192.168.1.34 from checkpoint: logdata/cliff_walking/checkpoint_92/checkpoint-92\n",
      "2020-12-24 19:47:24,662\tINFO trainable.py:336 -- Current state after restoring: {'_iteration': 92, '_timesteps_total': None, '_time_total': 365.92328667640686, '_episodes_total': 19636}\n"
     ]
    },
    {
     "name": "stdout",
     "output_type": "stream",
     "text": [
      "\n",
      "o  o  o  o  o  o  o  o  o  o  o  o\n",
      "o  o  o  o  o  o  o  o  o  o  o  o\n",
      "o  C  C  C  C  C  C  C  C  C  C  x\n",
      "\n",
      "Episode #0: reward: -13.0\n"
     ]
    }
   ],
   "source": [
    "!rllib rollout \\\n",
    "    logdata/cliff_walking/checkpoint_92/checkpoint-92 \\\n",
    "    --config \"{\\\"env\\\": \\\"CliffWalking-v0\\\"}\" \\\n",
    "    --run PPO \\\n",
    "    --steps 13"
   ]
  },
  {
   "cell_type": "code",
   "execution_count": 28,
   "metadata": {},
   "outputs": [],
   "source": [
    "import pandas as pd\n",
    "import matplotlib.pyplot as plt\n",
    "df = pd.read_csv(\"rewards.csv\", header=None )"
   ]
  },
  {
   "cell_type": "code",
   "execution_count": 29,
   "metadata": {},
   "outputs": [
    {
     "data": {
      "text/html": [
       "<div>\n",
       "<style scoped>\n",
       "    .dataframe tbody tr th:only-of-type {\n",
       "        vertical-align: middle;\n",
       "    }\n",
       "\n",
       "    .dataframe tbody tr th {\n",
       "        vertical-align: top;\n",
       "    }\n",
       "\n",
       "    .dataframe thead th {\n",
       "        text-align: right;\n",
       "    }\n",
       "</style>\n",
       "<table border=\"1\" class=\"dataframe\">\n",
       "  <thead>\n",
       "    <tr style=\"text-align: right;\">\n",
       "      <th></th>\n",
       "      <th>0</th>\n",
       "      <th>1</th>\n",
       "      <th>2</th>\n",
       "      <th>3</th>\n",
       "      <th>4</th>\n",
       "      <th>5</th>\n",
       "      <th>6</th>\n",
       "      <th>7</th>\n",
       "      <th>8</th>\n",
       "      <th>9</th>\n",
       "      <th>10</th>\n",
       "      <th>11</th>\n",
       "      <th>12</th>\n",
       "      <th>13</th>\n",
       "      <th>14</th>\n",
       "      <th>15</th>\n",
       "      <th>16</th>\n",
       "      <th>17</th>\n",
       "      <th>18</th>\n",
       "    </tr>\n",
       "  </thead>\n",
       "  <tbody>\n",
       "    <tr>\n",
       "      <th>0</th>\n",
       "      <td>NaN</td>\n",
       "      <td>1:</td>\n",
       "      <td>Min</td>\n",
       "      <td>Mean</td>\n",
       "      <td>Max</td>\n",
       "      <td>reward:</td>\n",
       "      <td>NaN</td>\n",
       "      <td>NaN</td>\n",
       "      <td>NaN</td>\n",
       "      <td>NaN</td>\n",
       "      <td>NaN</td>\n",
       "      <td>len</td>\n",
       "      <td>mean:</td>\n",
       "      <td>nan.</td>\n",
       "      <td>Checkpoint</td>\n",
       "      <td>saved</td>\n",
       "      <td>to</td>\n",
       "      <td>logdata</td>\n",
       "      <td>cliff_walking\\checkpoint_1\\checkpoint-1</td>\n",
       "    </tr>\n",
       "    <tr>\n",
       "      <th>1</th>\n",
       "      <td>NaN</td>\n",
       "      <td>2:</td>\n",
       "      <td>Min</td>\n",
       "      <td>Mean</td>\n",
       "      <td>Max</td>\n",
       "      <td>reward:</td>\n",
       "      <td>-27523.0</td>\n",
       "      <td>-27523.0</td>\n",
       "      <td>-27523.0</td>\n",
       "      <td>len</td>\n",
       "      <td>mean:</td>\n",
       "      <td>2872.0000.</td>\n",
       "      <td>Checkpoint</td>\n",
       "      <td>saved</td>\n",
       "      <td>to</td>\n",
       "      <td>logdata</td>\n",
       "      <td>cliff_walking\\checkpoint_2\\checkpoint-2</td>\n",
       "      <td>NaN</td>\n",
       "      <td>NaN</td>\n",
       "    </tr>\n",
       "    <tr>\n",
       "      <th>2</th>\n",
       "      <td>NaN</td>\n",
       "      <td>3:</td>\n",
       "      <td>Min</td>\n",
       "      <td>Mean</td>\n",
       "      <td>Max</td>\n",
       "      <td>reward:</td>\n",
       "      <td>-27523.0</td>\n",
       "      <td>-27523.0</td>\n",
       "      <td>-27523.0</td>\n",
       "      <td>len</td>\n",
       "      <td>mean:</td>\n",
       "      <td>2872.0000.</td>\n",
       "      <td>Checkpoint</td>\n",
       "      <td>saved</td>\n",
       "      <td>to</td>\n",
       "      <td>logdata</td>\n",
       "      <td>cliff_walking\\checkpoint_3\\checkpoint-3</td>\n",
       "      <td>NaN</td>\n",
       "      <td>NaN</td>\n",
       "    </tr>\n",
       "    <tr>\n",
       "      <th>3</th>\n",
       "      <td>NaN</td>\n",
       "      <td>4:</td>\n",
       "      <td>Min</td>\n",
       "      <td>Mean</td>\n",
       "      <td>Max</td>\n",
       "      <td>reward:</td>\n",
       "      <td>-27523.0</td>\n",
       "      <td>-27523.0</td>\n",
       "      <td>-27523.0</td>\n",
       "      <td>len</td>\n",
       "      <td>mean:</td>\n",
       "      <td>2872.0000.</td>\n",
       "      <td>Checkpoint</td>\n",
       "      <td>saved</td>\n",
       "      <td>to</td>\n",
       "      <td>logdata</td>\n",
       "      <td>cliff_walking\\checkpoint_4\\checkpoint-4</td>\n",
       "      <td>NaN</td>\n",
       "      <td>NaN</td>\n",
       "    </tr>\n",
       "    <tr>\n",
       "      <th>4</th>\n",
       "      <td>NaN</td>\n",
       "      <td>5:</td>\n",
       "      <td>Min</td>\n",
       "      <td>Mean</td>\n",
       "      <td>Max</td>\n",
       "      <td>reward:</td>\n",
       "      <td>-27523.0</td>\n",
       "      <td>-21120.0</td>\n",
       "      <td>-14717.0</td>\n",
       "      <td>len</td>\n",
       "      <td>mean:</td>\n",
       "      <td>4141.5000.</td>\n",
       "      <td>Checkpoint</td>\n",
       "      <td>saved</td>\n",
       "      <td>to</td>\n",
       "      <td>logdata</td>\n",
       "      <td>cliff_walking\\checkpoint_5\\checkpoint-5</td>\n",
       "      <td>NaN</td>\n",
       "      <td>NaN</td>\n",
       "    </tr>\n",
       "  </tbody>\n",
       "</table>\n",
       "</div>"
      ],
      "text/plain": [
       "   0   1    2     3    4        5        6        7        8    9      10  \\\n",
       "0 NaN  1:  Min  Mean  Max  reward:      NaN      NaN      NaN  NaN    NaN   \n",
       "1 NaN  2:  Min  Mean  Max  reward: -27523.0 -27523.0 -27523.0  len  mean:   \n",
       "2 NaN  3:  Min  Mean  Max  reward: -27523.0 -27523.0 -27523.0  len  mean:   \n",
       "3 NaN  4:  Min  Mean  Max  reward: -27523.0 -27523.0 -27523.0  len  mean:   \n",
       "4 NaN  5:  Min  Mean  Max  reward: -27523.0 -21120.0 -14717.0  len  mean:   \n",
       "\n",
       "           11          12     13          14       15  \\\n",
       "0         len       mean:   nan.  Checkpoint    saved   \n",
       "1  2872.0000.  Checkpoint  saved          to  logdata   \n",
       "2  2872.0000.  Checkpoint  saved          to  logdata   \n",
       "3  2872.0000.  Checkpoint  saved          to  logdata   \n",
       "4  4141.5000.  Checkpoint  saved          to  logdata   \n",
       "\n",
       "                                        16       17  \\\n",
       "0                                       to  logdata   \n",
       "1  cliff_walking\\checkpoint_2\\checkpoint-2      NaN   \n",
       "2  cliff_walking\\checkpoint_3\\checkpoint-3      NaN   \n",
       "3  cliff_walking\\checkpoint_4\\checkpoint-4      NaN   \n",
       "4  cliff_walking\\checkpoint_5\\checkpoint-5      NaN   \n",
       "\n",
       "                                        18  \n",
       "0  cliff_walking\\checkpoint_1\\checkpoint-1  \n",
       "1                                      NaN  \n",
       "2                                      NaN  \n",
       "3                                      NaN  \n",
       "4                                      NaN  "
      ]
     },
     "execution_count": 29,
     "metadata": {},
     "output_type": "execute_result"
    }
   ],
   "source": [
    "df.head()"
   ]
  },
  {
   "cell_type": "code",
   "execution_count": 34,
   "metadata": {},
   "outputs": [
    {
     "data": {
      "image/png": "[encoded data removed]",
      "text/plain": [
       "<Figure size 1152x576 with 1 Axes>"
      ]
     },
     "metadata": {
      "needs_background": "light"
     },
     "output_type": "display_data"
    }
   ],
   "source": [
    "figsize=(16, 8)\n",
    "plt.figure(figsize=figsize)\n",
    "plt.title(\"RLLib DQN learning Cliff task\")\n",
    "rew_plot_min = plt.plot(df[6], label='min')\n",
    "rew_plot_avg = plt.plot(df[7], label='avg')\n",
    "rew_plot_max = plt.plot(df[8], label='max')\n",
    "plt.grid(True)\n",
    "plt.legend()\n",
    "plt.ylabel(\"Reward per episode\")\n",
    "plt.xlabel(\"Iteration\")\n",
    "plt.xlim([10, 100])\n",
    "plt.ylim([-50, 0])\n",
    "plt.show()"
   ]
  }
 ],
 "metadata": {
  "kernelspec": {
   "display_name": "Python 3",
   "language": "python",
   "name": "python3"
  },
  "language_info": {
   "codemirror_mode": {
    "name": "ipython",
    "version": 3
   },
   "file_extension": ".py",
   "mimetype": "text/x-python",
   "name": "python",
   "nbconvert_exporter": "python",
   "pygments_lexer": "ipython3",
   "version": "3.7.7"
  }
 },
 "nbformat": 4,
 "nbformat_minor": 4
}
